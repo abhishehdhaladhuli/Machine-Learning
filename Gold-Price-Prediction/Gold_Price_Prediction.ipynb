{
 "cells": [
  {
   "cell_type": "code",
   "execution_count": 1,
   "id": "46c5b5bd-4643-4f5b-8302-dabcd10538fe",
   "metadata": {},
   "outputs": [],
   "source": [
    "#importing the necessary libraries \n",
    "import numpy as np\n",
    "import pandas as pd \n",
    "import matplotlib.pyplot as plt \n",
    "from sklearn.ensemble import RandomForestRegressor\n",
    "from sklearn.metrics import r2_score \n",
    "from sklearn.model_selection import train_test_split \n"
   ]
  },
  {
   "cell_type": "code",
   "execution_count": 11,
   "id": "a2a4bf24-ee14-47dc-8021-4b9b54acd09d",
   "metadata": {},
   "outputs": [
    {
     "name": "stdout",
     "output_type": "stream",
     "text": [
      "       Date          SPX        GLD        USO     SLV   EUR/USD\n",
      "0  1/2/2008  1447.160034  84.860001  78.470001  15.180  1.471692\n",
      "1  1/3/2008  1447.160034  85.570000  78.370003  15.285  1.474491\n",
      "2  1/4/2008  1411.630005  85.129997  77.309998  15.167  1.475492\n",
      "3  1/7/2008  1416.180054  84.769997  75.500000  15.053  1.468299\n",
      "4  1/8/2008  1390.189941  86.779999  76.059998  15.590  1.557099\n",
      "Date        object\n",
      "SPX        float64\n",
      "GLD        float64\n",
      "USO        float64\n",
      "SLV        float64\n",
      "EUR/USD    float64\n",
      "dtype: object\n"
     ]
    }
   ],
   "source": [
    "#data collection\n",
    "data=pd.read_csv('gld_price_data.csv')\n",
    "print(data.head())\n",
    "print(data.dtypes)"
   ]
  },
  {
   "cell_type": "code",
   "execution_count": 13,
   "id": "19125e3f-0afe-426c-95ae-d34d50dbabf5",
   "metadata": {},
   "outputs": [
    {
     "name": "stdout",
     "output_type": "stream",
     "text": [
      "<class 'pandas.core.frame.DataFrame'>\n",
      "RangeIndex: 2290 entries, 0 to 2289\n",
      "Data columns (total 6 columns):\n",
      " #   Column   Non-Null Count  Dtype  \n",
      "---  ------   --------------  -----  \n",
      " 0   Date     2290 non-null   object \n",
      " 1   SPX      2290 non-null   float64\n",
      " 2   GLD      2290 non-null   float64\n",
      " 3   USO      2290 non-null   float64\n",
      " 4   SLV      2290 non-null   float64\n",
      " 5   EUR/USD  2290 non-null   float64\n",
      "dtypes: float64(5), object(1)\n",
      "memory usage: 107.5+ KB\n",
      "None\n",
      "               SPX          GLD          USO          SLV      EUR/USD\n",
      "count  2290.000000  2290.000000  2290.000000  2290.000000  2290.000000\n",
      "mean   1654.315776   122.732875    31.842221    20.084997     1.283653\n",
      "std     519.111540    23.283346    19.523517     7.092566     0.131547\n",
      "min     676.530029    70.000000     7.960000     8.850000     1.039047\n",
      "25%    1239.874969   109.725000    14.380000    15.570000     1.171313\n",
      "50%    1551.434998   120.580002    33.869999    17.268500     1.303297\n",
      "75%    2073.010070   132.840004    37.827501    22.882500     1.369971\n",
      "max    2872.870117   184.589996   117.480003    47.259998     1.598798\n"
     ]
    }
   ],
   "source": [
    "#deriving the statistics from the dataset \n",
    "print(data.info())\n",
    "print(data.describe())"
   ]
  },
  {
   "cell_type": "code",
   "execution_count": 15,
   "id": "253c6c99-f011-422e-afdd-12239b7b69b9",
   "metadata": {},
   "outputs": [
    {
     "data": {
      "text/plain": [
       "Date       0\n",
       "SPX        0\n",
       "GLD        0\n",
       "USO        0\n",
       "SLV        0\n",
       "EUR/USD    0\n",
       "dtype: int64"
      ]
     },
     "execution_count": 15,
     "metadata": {},
     "output_type": "execute_result"
    }
   ],
   "source": [
    "#finding whether are there any missing values \n",
    "data.isnull().sum()"
   ]
  },
  {
   "cell_type": "code",
   "execution_count": 17,
   "id": "2b9f5a46-a9ca-4b56-82c9-f6a7cff65cbd",
   "metadata": {},
   "outputs": [
    {
     "data": {
      "text/plain": [
       "0       False\n",
       "1       False\n",
       "2       False\n",
       "3       False\n",
       "4       False\n",
       "        ...  \n",
       "2285    False\n",
       "2286    False\n",
       "2287    False\n",
       "2288    False\n",
       "2289    False\n",
       "Length: 2290, dtype: bool"
      ]
     },
     "execution_count": 17,
     "metadata": {},
     "output_type": "execute_result"
    }
   ],
   "source": [
    "#as the data is free from null values we need to check duplicates \n",
    "data.duplicated()"
   ]
  },
  {
   "cell_type": "code",
   "execution_count": 19,
   "id": "fcd4d5ec-3793-4de3-8d7a-d086e6b278d1",
   "metadata": {},
   "outputs": [],
   "source": [
    "# Its is good that the data is also free from any duplicates"
   ]
  },
  {
   "cell_type": "code",
   "execution_count": 27,
   "id": "472eb7b7-ee20-4e57-b0b5-3aad2ea9ab19",
   "metadata": {},
   "outputs": [
    {
     "data": {
      "image/png": "[encoded data removed]",
      "text/plain": [
       "<Figure size 640x480 with 1 Axes>"
      ]
     },
     "metadata": {},
     "output_type": "display_data"
    }
   ],
   "source": [
    "#some plots \n",
    "plt.hist(data['GLD'],density=True,color='b',alpha=0.7)\n",
    "plt.show()"
   ]
  },
  {
   "cell_type": "code",
   "execution_count": 29,
   "id": "16e3d8c9-4564-4067-9d39-e97fc82ba778",
   "metadata": {},
   "outputs": [],
   "source": [
    "#most of the prices fluctuate between the 100-140 "
   ]
  },
  {
   "cell_type": "code",
   "execution_count": 31,
   "id": "110a5c99-61ca-40c7-843a-e0689b6757ad",
   "metadata": {},
   "outputs": [
    {
     "name": "stdout",
     "output_type": "stream",
     "text": [
      "(2290, 4) (2290,)\n"
     ]
    }
   ],
   "source": [
    "# Splitting the features and target\n",
    "X=data.drop(['GLD','Date'],axis=1)\n",
    "Y=data['GLD']\n",
    "print(X.shape,Y.shape)"
   ]
  },
  {
   "cell_type": "code",
   "execution_count": 33,
   "id": "7e2e8f94-3d0e-4086-9ebc-36636089174a",
   "metadata": {},
   "outputs": [],
   "source": [
    "X_train,X_test,Y_train,Y_test=train_test_split(X,Y,test_size=0.2,random_state=42)\n"
   ]
  },
  {
   "cell_type": "code",
   "execution_count": 35,
   "id": "0d64e1ab-d66d-4568-b7f0-f00bdd3bc915",
   "metadata": {},
   "outputs": [
    {
     "data": {
      "text/plain": [
       "0.9900245384549384"
      ]
     },
     "execution_count": 35,
     "metadata": {},
     "output_type": "execute_result"
    }
   ],
   "source": [
    "#model training \n",
    "model=RandomForestRegressor(n_estimators=100,random_state=42)\n",
    "model.fit(X_train,Y_train)\n",
    "model.score(X_test,Y_test)"
   ]
  },
  {
   "cell_type": "code",
   "execution_count": 37,
   "id": "b20944e4-10dd-4aa0-b2cb-ff23133b65e3",
   "metadata": {},
   "outputs": [
    {
     "name": "stdout",
     "output_type": "stream",
     "text": [
      "The R2 score is 0.9900245384549384\n"
     ]
    }
   ],
   "source": [
    "#checking the accuracy\n",
    "Y_pred=model.predict(X_test)\n",
    "accuracy=r2_score(Y_test,Y_pred)\n",
    "print(f\"The R2 score is {accuracy}\")"
   ]
  }
 ],
 "metadata": {
  "kernelspec": {
   "display_name": "Python 3 (ipykernel)",
   "language": "python",
   "name": "python3"
  },
  "language_info": {
   "codemirror_mode": {
    "name": "ipython",
    "version": 3
   },
   "file_extension": ".py",
   "mimetype": "text/x-python",
   "name": "python",
   "nbconvert_exporter": "python",
   "pygments_lexer": "ipython3",
   "version": "3.12.7"
  },
  "widgets": {
   "application/vnd.jupyter.widget-state+json": {
    "state": {},
    "version_major": 2,
    "version_minor": 0
   }
  }
 },
 "nbformat": 4,
 "nbformat_minor": 5
}
