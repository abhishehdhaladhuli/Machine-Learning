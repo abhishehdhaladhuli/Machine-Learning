{
 "cells": [
  {
   "cell_type": "code",
   "execution_count": 93,
   "id": "7a6b6fd7-edf0-485d-9c90-c84d36557f01",
   "metadata": {},
   "outputs": [],
   "source": [
    "#importing the libraries \n",
    "import numpy as np\n",
    "import pandas as pd \n",
    "from sklearn.linear_model import LinearRegression,Lasso\n",
    "from sklearn.model_selection import train_test_split\n",
    "from sklearn.metrics import r2_score \n",
    "from sklearn.preprocessing import LabelEncoder\n",
    "import seaborn as sns \n",
    "import matplotlib.pyplot as plt"
   ]
  },
  {
   "cell_type": "code",
   "execution_count": 16,
   "id": "7532ab97-1af1-4ccc-81c8-b64598fb19c8",
   "metadata": {},
   "outputs": [
    {
     "name": "stdout",
     "output_type": "stream",
     "text": [
      "                       name  year  selling_price  km_driven    fuel  \\\n",
      "0             Maruti 800 AC  2007          60000      70000  Petrol   \n",
      "1  Maruti Wagon R LXI Minor  2007         135000      50000  Petrol   \n",
      "2      Hyundai Verna 1.6 SX  2012         600000     100000  Diesel   \n",
      "3    Datsun RediGO T Option  2017         250000      46000  Petrol   \n",
      "4     Honda Amaze VX i-DTEC  2014         450000     141000  Diesel   \n",
      "\n",
      "  seller_type transmission         owner  \n",
      "0  Individual       Manual   First Owner  \n",
      "1  Individual       Manual   First Owner  \n",
      "2  Individual       Manual   First Owner  \n",
      "3  Individual       Manual   First Owner  \n",
      "4  Individual       Manual  Second Owner  \n"
     ]
    }
   ],
   "source": [
    "#importing the data \n",
    "data=pd.read_csv('CAR DETAILS FROM CAR DEKHO.csv')\n",
    "print(data.head())"
   ]
  },
  {
   "cell_type": "code",
   "execution_count": 19,
   "id": "4bb6fdf1-6523-4f93-b457-e69a24af64ec",
   "metadata": {},
   "outputs": [
    {
     "name": "stdout",
     "output_type": "stream",
     "text": [
      "<class 'pandas.core.frame.DataFrame'>\n",
      "RangeIndex: 4340 entries, 0 to 4339\n",
      "Data columns (total 8 columns):\n",
      " #   Column         Non-Null Count  Dtype \n",
      "---  ------         --------------  ----- \n",
      " 0   name           4340 non-null   object\n",
      " 1   year           4340 non-null   int64 \n",
      " 2   selling_price  4340 non-null   int64 \n",
      " 3   km_driven      4340 non-null   int64 \n",
      " 4   fuel           4340 non-null   object\n",
      " 5   seller_type    4340 non-null   object\n",
      " 6   transmission   4340 non-null   object\n",
      " 7   owner          4340 non-null   object\n",
      "dtypes: int64(3), object(5)\n",
      "memory usage: 271.4+ KB\n",
      "None\n",
      "              year  selling_price      km_driven\n",
      "count  4340.000000   4.340000e+03    4340.000000\n",
      "mean   2013.090783   5.041273e+05   66215.777419\n",
      "std       4.215344   5.785487e+05   46644.102194\n",
      "min    1992.000000   2.000000e+04       1.000000\n",
      "25%    2011.000000   2.087498e+05   35000.000000\n",
      "50%    2014.000000   3.500000e+05   60000.000000\n",
      "75%    2016.000000   6.000000e+05   90000.000000\n",
      "max    2020.000000   8.900000e+06  806599.000000\n",
      "(4340, 8)\n"
     ]
    }
   ],
   "source": [
    "#knowing in detail about the data set \n",
    "print(data.info())\n",
    "print(data.describe())\n",
    "print(data.shape)"
   ]
  },
  {
   "cell_type": "code",
   "execution_count": 21,
   "id": "bcb05c2e-875e-470f-8dd6-004bf9171fe2",
   "metadata": {},
   "outputs": [
    {
     "data": {
      "text/plain": [
       "name             0\n",
       "year             0\n",
       "selling_price    0\n",
       "km_driven        0\n",
       "fuel             0\n",
       "seller_type      0\n",
       "transmission     0\n",
       "owner            0\n",
       "dtype: int64"
      ]
     },
     "execution_count": 21,
     "metadata": {},
     "output_type": "execute_result"
    }
   ],
   "source": [
    "#checking the missing the values \n",
    "data.isnull().sum()"
   ]
  },
  {
   "cell_type": "code",
   "execution_count": 27,
   "id": "931955d4-80e7-454a-a171-f13f13e1a1db",
   "metadata": {},
   "outputs": [
    {
     "name": "stdout",
     "output_type": "stream",
     "text": [
      "Index(['name', 'fuel', 'seller_type', 'transmission', 'owner'], dtype='object')\n"
     ]
    }
   ],
   "source": [
    "categorical_columns=data.select_dtypes(include=['object']).columns\n",
    "print(categorical_columns)"
   ]
  },
  {
   "cell_type": "code",
   "execution_count": 33,
   "id": "5649f88a-4481-472f-b740-9865885b9e47",
   "metadata": {},
   "outputs": [
    {
     "name": "stdout",
     "output_type": "stream",
     "text": [
      "                       name  year  selling_price  km_driven    fuel  \\\n",
      "0             Maruti 800 AC  2007          60000      70000  Petrol   \n",
      "1  Maruti Wagon R LXI Minor  2007         135000      50000  Petrol   \n",
      "2      Hyundai Verna 1.6 SX  2012         600000     100000  Diesel   \n",
      "3    Datsun RediGO T Option  2017         250000      46000  Petrol   \n",
      "4     Honda Amaze VX i-DTEC  2014         450000     141000  Diesel   \n",
      "\n",
      "  seller_type transmission         owner  name_encoded  fuel_encoded  \\\n",
      "0  Individual       Manual   First Owner           775             4   \n",
      "1  Individual       Manual   First Owner          1041             4   \n",
      "2  Individual       Manual   First Owner           505             1   \n",
      "3  Individual       Manual   First Owner           118             4   \n",
      "4  Individual       Manual  Second Owner           279             1   \n",
      "\n",
      "   seller_type_encoded  transmission_encoded  owner_encoded  \n",
      "0                    1                     1              0  \n",
      "1                    1                     1              0  \n",
      "2                    1                     1              0  \n",
      "3                    1                     1              0  \n",
      "4                    1                     1              2  \n"
     ]
    }
   ],
   "source": [
    "# Initialize LabelEncoder\n",
    "encoder = LabelEncoder()\n",
    "data_encoded = data.copy()\n",
    "for col in categorical_columns:\n",
    "    data_encoded[col + \"_encoded\"] = encoder.fit_transform(data[col])\n",
    "print(data_encoded.head())\n"
   ]
  },
  {
   "cell_type": "code",
   "execution_count": 75,
   "id": "42679c92-236c-4937-a538-fa3ff29b341b",
   "metadata": {},
   "outputs": [
    {
     "name": "stdout",
     "output_type": "stream",
     "text": [
      "      year  km_driven  name_encoded  fuel_encoded  seller_type_encoded  \\\n",
      "2990  2009     120000          1219             4                    1   \n",
      "2348  2014     135000          1413             1                    0   \n",
      "1739  2010      70000           943             4                    1   \n",
      "2988  2014     100000          1271             1                    1   \n",
      "350   2013      80000           928             1                    0   \n",
      "...    ...        ...           ...           ...                  ...   \n",
      "3444  2006      50000          1401             1                    1   \n",
      "466   2011      80000          1236             1                    1   \n",
      "3092  2016      51000           859             1                    0   \n",
      "3772  2013      80000           883             1                    1   \n",
      "860   2013      80000           474             4                    1   \n",
      "\n",
      "      transmission_encoded  owner_encoded  \n",
      "2990                     1              2  \n",
      "2348                     1              0  \n",
      "1739                     1              0  \n",
      "2988                     1              0  \n",
      "350                      1              0  \n",
      "...                    ...            ...  \n",
      "3444                     1              0  \n",
      "466                      1              0  \n",
      "3092                     1              0  \n",
      "3772                     1              0  \n",
      "860                      1              0  \n",
      "\n",
      "[2604 rows x 7 columns]       year  km_driven  name_encoded  fuel_encoded  seller_type_encoded  \\\n",
      "3978  2010      80000          1263             1                    1   \n",
      "1448  2019      27000          1155             4                    1   \n",
      "2664  2008      41723           474             4                    1   \n",
      "17    2014     141000           279             1                    1   \n",
      "1634  2016      60000           721             1                    1   \n",
      "...    ...        ...           ...           ...                  ...   \n",
      "4258  2017      66000           446             1                    0   \n",
      "272   2011     155000          1031             4                    1   \n",
      "782   2011      90000           944             1                    1   \n",
      "521   2013      75000          1371             1                    0   \n",
      "522   2007      50000           992             1                    0   \n",
      "\n",
      "      transmission_encoded  owner_encoded  \n",
      "3978                     1              0  \n",
      "1448                     1              0  \n",
      "2664                     1              2  \n",
      "17                       1              2  \n",
      "1634                     0              2  \n",
      "...                    ...            ...  \n",
      "4258                     1              0  \n",
      "272                      1              0  \n",
      "782                      1              4  \n",
      "521                      1              0  \n",
      "522                      1              0  \n",
      "\n",
      "[1736 rows x 7 columns] 2990      68000\n",
      "2348    1150000\n",
      "1739     250000\n",
      "2988     200000\n",
      "350      335000\n",
      "         ...   \n",
      "3444     500000\n",
      "466      133000\n",
      "3092     665000\n",
      "3772     250999\n",
      "860      175000\n",
      "Name: selling_price, Length: 2604, dtype: int64 3978    165000\n",
      "1448    250000\n",
      "2664    120000\n",
      "17      450000\n",
      "1634    730000\n",
      "         ...  \n",
      "4258    490000\n",
      "272     160000\n",
      "782     220000\n",
      "521     350000\n",
      "522     225000\n",
      "Name: selling_price, Length: 1736, dtype: int64\n"
     ]
    }
   ],
   "source": [
    "#splitting the data into training and testing \n",
    "X=data_encoded.drop(['selling_price','name'],axis=1)\n",
    "non_numeric_cols = X.select_dtypes(include=['object']).columns\n",
    "X = X.drop(columns=non_numeric_cols, errors='ignore')\n",
    "Y=data_encoded['selling_price']\n",
    "X_train,X_test,Y_train,Y_test=train_test_split(X,Y,test_size=0.4,random_state=42)\n",
    "print(X_train,X_test,Y_train,Y_test)"
   ]
  },
  {
   "cell_type": "code",
   "execution_count": 77,
   "id": "a993221c-e8bd-4e2b-8ec9-efb080e1472d",
   "metadata": {},
   "outputs": [
    {
     "name": "stdout",
     "output_type": "stream",
     "text": [
      "Model score: 0.44092530652091855\n"
     ]
    }
   ],
   "source": [
    "model = LinearRegression()\n",
    "model.fit(X_train, Y_train)\n",
    "score = model.score(X_test, Y_test)\n",
    "print(\"Model score:\", score)\n"
   ]
  },
  {
   "cell_type": "code",
   "execution_count": 91,
   "id": "fa30eae6-8d1a-487b-8770-63cbb959d456",
   "metadata": {},
   "outputs": [
    {
     "name": "stdout",
     "output_type": "stream",
     "text": [
      "R Square error is :0.44092530652091855\n"
     ]
    }
   ],
   "source": [
    "#printing the accuracy of the model\n",
    "y_pred=model.predict(X_test)\n",
    "r2_score=r2_score(Y_test,y_pred)\n",
    "print(f\"R Square error is :{r2_score}\")"
   ]
  },
  {
   "cell_type": "code",
   "execution_count": 105,
   "id": "e7840c28-2553-4c4e-b214-02eb6fc81893",
   "metadata": {},
   "outputs": [
    {
     "data": {
      "image/png": "[encoded data removed]",
      "text/plain": [
       "<Figure size 640x480 with 1 Axes>"
      ]
     },
     "metadata": {},
     "output_type": "display_data"
    }
   ],
   "source": [
    "#visualizing the actual prices and the predicted prices \n",
    "plt.scatter(Y_test,y_pred)\n",
    "plt.title('Car Price Prediction')\n",
    "plt.xlabel('Actual Price')\n",
    "plt.ylabel('Predicted Price')\n",
    "plt.show()\n"
   ]
  },
  {
   "cell_type": "code",
   "execution_count": null,
   "id": "0d3a8236-a279-4e94-9b5b-caa616f6d2bd",
   "metadata": {},
   "outputs": [],
   "source": []
  }
 ],
 "metadata": {
  "kernelspec": {
   "display_name": "Python 3 (ipykernel)",
   "language": "python",
   "name": "python3"
  },
  "language_info": {
   "codemirror_mode": {
    "name": "ipython",
    "version": 3
   },
   "file_extension": ".py",
   "mimetype": "text/x-python",
   "name": "python",
   "nbconvert_exporter": "python",
   "pygments_lexer": "ipython3",
   "version": "3.12.7"
  },
  "widgets": {
   "application/vnd.jupyter.widget-state+json": {
    "state": {},
    "version_major": 2,
    "version_minor": 0
   }
  }
 },
 "nbformat": 4,
 "nbformat_minor": 5
}
