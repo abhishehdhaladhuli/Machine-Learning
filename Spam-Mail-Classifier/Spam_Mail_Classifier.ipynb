{
 "cells": [
  {
   "cell_type": "code",
   "execution_count": 99,
   "id": "9b7f2c26-f3ef-434a-8fa5-5075490daf1c",
   "metadata": {},
   "outputs": [
    {
     "name": "stdin",
     "output_type": "stream",
     "text": [
      "Enter the path to the CSV file:  mail_data.csv\n"
     ]
    },
    {
     "name": "stdout",
     "output_type": "stream",
     "text": [
      "Data loaded successfully!\n",
      "  Category                                            Message\n",
      "0      ham  Go until jurong point, crazy.. Available only ...\n",
      "1      ham                      Ok lar... Joking wif u oni...\n",
      "2     spam  Free entry in 2 a wkly comp to win FA Cup fina...\n",
      "3      ham  U dun say so early hor... U c already then say...\n",
      "4      ham  Nah I don't think he goes to usf, he lives aro...\n",
      "Accuracy: 0.9659090909090909\n",
      "Confusion Matrix:\n",
      " [[1446    2]\n",
      " [  55  169]]\n",
      "Classification Report:\n",
      "               precision    recall  f1-score   support\n",
      "\n",
      "           0       0.96      1.00      0.98      1448\n",
      "           1       0.99      0.75      0.86       224\n",
      "\n",
      "    accuracy                           0.97      1672\n",
      "   macro avg       0.98      0.88      0.92      1672\n",
      "weighted avg       0.97      0.97      0.96      1672\n",
      "\n",
      "\n",
      "Enter a message to classify as spam or ham (type 'exit' to quit):\n"
     ]
    },
    {
     "name": "stdin",
     "output_type": "stream",
     "text": [
      "Message:  I would like to congratulate you on winning the lucky draw\n"
     ]
    },
    {
     "name": "stdout",
     "output_type": "stream",
     "text": [
      "Ham\n"
     ]
    },
    {
     "name": "stdin",
     "output_type": "stream",
     "text": [
      "Message:  exit\n"
     ]
    }
   ],
   "source": [
    "import pandas as pd\n",
    "import numpy as np\n",
    "from sklearn.model_selection import train_test_split\n",
    "from sklearn.feature_extraction.text import TfidfVectorizer\n",
    "from sklearn.linear_model import LogisticRegression\n",
    "from sklearn.metrics import accuracy_score, confusion_matrix, classification_report\n",
    "from sklearn.pipeline import Pipeline\n",
    "\n",
    "# Function to load CSV data using input\n",
    "def load_csv_data():\n",
    "    file_path = input(\"Enter the path to the CSV file: \")\n",
    "    return pd.read_csv(file_path)\n",
    "\n",
    "# Load data\n",
    "data = load_csv_data()\n",
    "print(\"Data loaded successfully!\")\n",
    "print(data.head())\n",
    "\n",
    "# Ensure data has the correct columns (usually 'Category' and 'Message')\n",
    "if 'Category' not in data.columns or 'Message' not in data.columns:\n",
    "    raise ValueError(\"CSV must contain 'Category' and 'Message' columns.\")\n",
    "\n",
    "# Label encoding: ham -> 0, spam -> 1\n",
    "data['Category'] = data['Category'].map({'ham': 0, 'spam': 1})\n",
    "\n",
    "# Split data into train and test sets\n",
    "X = data['Message']\n",
    "y = data['Category']\n",
    "X_train, X_test, y_train, y_test = train_test_split(X, y, test_size=0.3, random_state=42)\n",
    "\n",
    "# Define the model pipeline\n",
    "pipeline = Pipeline([\n",
    "    ('tfidf', TfidfVectorizer(min_df=1, stop_words='english', lowercase=True)),\n",
    "    ('model', LogisticRegression(max_iter=200))\n",
    "])\n",
    "\n",
    "# Train the model\n",
    "pipeline.fit(X_train, y_train)\n",
    "\n",
    "# Predictions\n",
    "y_pred = pipeline.predict(X_test)\n",
    "\n",
    "# Evaluation\n",
    "print(\"Accuracy:\", accuracy_score(y_test, y_pred))\n",
    "print(\"Confusion Matrix:\\n\", confusion_matrix(y_test, y_pred))\n",
    "print(\"Classification Report:\\n\", classification_report(y_test, y_pred))\n",
    "\n",
    "# Test on new data\n",
    "def test_new_email():\n",
    "    print(\"\\nEnter a message to classify as spam or ham (type 'exit' to quit):\")\n",
    "    while True:\n",
    "        user_input = input(\"Message: \")\n",
    "        if user_input.lower() == 'exit':\n",
    "            break\n",
    "        prediction = pipeline.predict([user_input])\n",
    "        print(\"Spam\" if prediction[0] == 1 else \"Ham\")\n",
    "\n",
    "# Run test cases\n",
    "test_new_email()\n"
   ]
  },
  {
   "cell_type": "code",
   "execution_count": null,
   "id": "03fcb55f-e7d1-472e-ae1d-1c8160771d1d",
   "metadata": {},
   "outputs": [],
   "source": []
  }
 ],
 "metadata": {
  "kernelspec": {
   "display_name": "Python 3 (ipykernel)",
   "language": "python",
   "name": "python3"
  },
  "language_info": {
   "codemirror_mode": {
    "name": "ipython",
    "version": 3
   },
   "file_extension": ".py",
   "mimetype": "text/x-python",
   "name": "python",
   "nbconvert_exporter": "python",
   "pygments_lexer": "ipython3",
   "version": "3.12.7"
  },
  "widgets": {
   "application/vnd.jupyter.widget-state+json": {
    "state": {},
    "version_major": 2,
    "version_minor": 0
   }
  }
 },
 "nbformat": 4,
 "nbformat_minor": 5
}
