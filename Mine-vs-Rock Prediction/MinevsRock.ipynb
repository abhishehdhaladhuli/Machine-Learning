{
 "cells": [
  {
   "cell_type": "code",
   "execution_count": 1,
   "id": "e6a0e3a3-eaac-4f32-9c58-eef0dc440aef",
   "metadata": {},
   "outputs": [],
   "source": [
    "#importing the libraries \n",
    "import pandas as pd \n",
    "import numpy as np\n",
    "from sklearn.linear_model import LogisticRegression\n",
    "from sklearn.model_selection import train_test_split \n",
    "from sklearn.metrics import accuracy_score "
   ]
  },
  {
   "cell_type": "code",
   "execution_count": 33,
   "id": "5cf018fd-6528-48c8-bfbe-5ca4231f93ad",
   "metadata": {},
   "outputs": [
    {
     "name": "stdout",
     "output_type": "stream",
     "text": [
      "       0       1       2       3       4       5       6       7       8   \\\n",
      "0  0.0200  0.0371  0.0428  0.0207  0.0954  0.0986  0.1539  0.1601  0.3109   \n",
      "1  0.0453  0.0523  0.0843  0.0689  0.1183  0.2583  0.2156  0.3481  0.3337   \n",
      "2  0.0262  0.0582  0.1099  0.1083  0.0974  0.2280  0.2431  0.3771  0.5598   \n",
      "3  0.0100  0.0171  0.0623  0.0205  0.0205  0.0368  0.1098  0.1276  0.0598   \n",
      "4  0.0762  0.0666  0.0481  0.0394  0.0590  0.0649  0.1209  0.2467  0.3564   \n",
      "\n",
      "       9   ...      51      52      53      54      55      56      57  \\\n",
      "0  0.2111  ...  0.0027  0.0065  0.0159  0.0072  0.0167  0.0180  0.0084   \n",
      "1  0.2872  ...  0.0084  0.0089  0.0048  0.0094  0.0191  0.0140  0.0049   \n",
      "2  0.6194  ...  0.0232  0.0166  0.0095  0.0180  0.0244  0.0316  0.0164   \n",
      "3  0.1264  ...  0.0121  0.0036  0.0150  0.0085  0.0073  0.0050  0.0044   \n",
      "4  0.4459  ...  0.0031  0.0054  0.0105  0.0110  0.0015  0.0072  0.0048   \n",
      "\n",
      "       58      59  60  \n",
      "0  0.0090  0.0032   R  \n",
      "1  0.0052  0.0044   R  \n",
      "2  0.0095  0.0078   R  \n",
      "3  0.0040  0.0117   R  \n",
      "4  0.0107  0.0094   R  \n",
      "\n",
      "[5 rows x 61 columns]\n"
     ]
    }
   ],
   "source": [
    "#importing the data \n",
    "data=pd.read_csv('Copy of sonar data.csv',header=None)\n",
    "print(data.head())"
   ]
  },
  {
   "cell_type": "code",
   "execution_count": 35,
   "id": "4aabce28-39ff-437d-b26d-ca1bba8bb519",
   "metadata": {},
   "outputs": [
    {
     "data": {
      "text/plain": [
       "0     0\n",
       "1     0\n",
       "2     0\n",
       "3     0\n",
       "4     0\n",
       "     ..\n",
       "56    0\n",
       "57    0\n",
       "58    0\n",
       "59    0\n",
       "60    0\n",
       "Length: 61, dtype: int64"
      ]
     },
     "execution_count": 35,
     "metadata": {},
     "output_type": "execute_result"
    }
   ],
   "source": [
    "#checking for the null values and na values \n",
    "data.isnull().sum()"
   ]
  },
  {
   "cell_type": "code",
   "execution_count": 37,
   "id": "55c9cc6c-3fa2-4901-bcd1-16dde98891fd",
   "metadata": {},
   "outputs": [
    {
     "data": {
      "text/plain": [
       "0      False\n",
       "1      False\n",
       "2      False\n",
       "3      False\n",
       "4      False\n",
       "       ...  \n",
       "203    False\n",
       "204    False\n",
       "205    False\n",
       "206    False\n",
       "207    False\n",
       "Length: 208, dtype: bool"
      ]
     },
     "execution_count": 37,
     "metadata": {},
     "output_type": "execute_result"
    }
   ],
   "source": [
    "#checking for the duplicate rows \n",
    "data.duplicated() #as there exist no duplicates "
   ]
  },
  {
   "cell_type": "code",
   "execution_count": 39,
   "id": "04896854-fe20-40a6-a3bd-402f586e75af",
   "metadata": {},
   "outputs": [
    {
     "name": "stdout",
     "output_type": "stream",
     "text": [
      "               0           1           2           3           4           5   \\\n",
      "count  208.000000  208.000000  208.000000  208.000000  208.000000  208.000000   \n",
      "mean     0.029164    0.038437    0.043832    0.053892    0.075202    0.104570   \n",
      "std      0.022991    0.032960    0.038428    0.046528    0.055552    0.059105   \n",
      "min      0.001500    0.000600    0.001500    0.005800    0.006700    0.010200   \n",
      "25%      0.013350    0.016450    0.018950    0.024375    0.038050    0.067025   \n",
      "50%      0.022800    0.030800    0.034300    0.044050    0.062500    0.092150   \n",
      "75%      0.035550    0.047950    0.057950    0.064500    0.100275    0.134125   \n",
      "max      0.137100    0.233900    0.305900    0.426400    0.401000    0.382300   \n",
      "\n",
      "               6           7           8           9   ...          50  \\\n",
      "count  208.000000  208.000000  208.000000  208.000000  ...  208.000000   \n",
      "mean     0.121747    0.134799    0.178003    0.208259  ...    0.016069   \n",
      "std      0.061788    0.085152    0.118387    0.134416  ...    0.012008   \n",
      "min      0.003300    0.005500    0.007500    0.011300  ...    0.000000   \n",
      "25%      0.080900    0.080425    0.097025    0.111275  ...    0.008425   \n",
      "50%      0.106950    0.112100    0.152250    0.182400  ...    0.013900   \n",
      "75%      0.154000    0.169600    0.233425    0.268700  ...    0.020825   \n",
      "max      0.372900    0.459000    0.682800    0.710600  ...    0.100400   \n",
      "\n",
      "               51          52          53          54          55          56  \\\n",
      "count  208.000000  208.000000  208.000000  208.000000  208.000000  208.000000   \n",
      "mean     0.013420    0.010709    0.010941    0.009290    0.008222    0.007820   \n",
      "std      0.009634    0.007060    0.007301    0.007088    0.005736    0.005785   \n",
      "min      0.000800    0.000500    0.001000    0.000600    0.000400    0.000300   \n",
      "25%      0.007275    0.005075    0.005375    0.004150    0.004400    0.003700   \n",
      "50%      0.011400    0.009550    0.009300    0.007500    0.006850    0.005950   \n",
      "75%      0.016725    0.014900    0.014500    0.012100    0.010575    0.010425   \n",
      "max      0.070900    0.039000    0.035200    0.044700    0.039400    0.035500   \n",
      "\n",
      "               57          58          59  \n",
      "count  208.000000  208.000000  208.000000  \n",
      "mean     0.007949    0.007941    0.006507  \n",
      "std      0.006470    0.006181    0.005031  \n",
      "min      0.000300    0.000100    0.000600  \n",
      "25%      0.003600    0.003675    0.003100  \n",
      "50%      0.005800    0.006400    0.005300  \n",
      "75%      0.010350    0.010325    0.008525  \n",
      "max      0.044000    0.036400    0.043900  \n",
      "\n",
      "[8 rows x 60 columns]\n",
      "(208, 61)\n"
     ]
    }
   ],
   "source": [
    "print(data.describe())\n",
    "print(data.shape)"
   ]
  },
  {
   "cell_type": "code",
   "execution_count": 43,
   "id": "af703e7c-665e-48ba-8fae-28de031cc4c3",
   "metadata": {},
   "outputs": [
    {
     "name": "stdout",
     "output_type": "stream",
     "text": [
      "60\n",
      "M    111\n",
      "R     97\n",
      "Name: count, dtype: int64\n"
     ]
    }
   ],
   "source": [
    "print(data.iloc[:,-1].value_counts()) #printing the details about the output "
   ]
  },
  {
   "cell_type": "code",
   "execution_count": 51,
   "id": "62182485-961e-4ec5-996f-fe647b73c40f",
   "metadata": {},
   "outputs": [
    {
     "name": "stdout",
     "output_type": "stream",
     "text": [
      "(166, 60) (166,)\n"
     ]
    }
   ],
   "source": [
    "#splitting the data into inputs and outputs and splitting them\n",
    "X=data.drop(columns=60,axis=1)\n",
    "Y=data[60]\n",
    "X_train,X_test,Y_train,Y_test=train_test_split(X,Y,test_size=0.2,random_state=42)\n",
    "print(X_train.shape,Y_train.shape)"
   ]
  },
  {
   "cell_type": "code",
   "execution_count": 55,
   "id": "114e64d9-0bab-479a-9f0c-0b4da4cbc7d8",
   "metadata": {},
   "outputs": [
    {
     "data": {
      "text/plain": [
       "0.7857142857142857"
      ]
     },
     "execution_count": 55,
     "metadata": {},
     "output_type": "execute_result"
    }
   ],
   "source": [
    "#Model Training \n",
    "model=LogisticRegression()\n",
    "model.fit(X_train,Y_train)\n",
    "model.score(X_test,Y_test)"
   ]
  },
  {
   "cell_type": "code",
   "execution_count": 63,
   "id": "7bf68b36-9d9a-432d-91fd-9a696e736432",
   "metadata": {},
   "outputs": [
    {
     "name": "stdout",
     "output_type": "stream",
     "text": [
      "The accuracy of the model is 78.57%\n"
     ]
    }
   ],
   "source": [
    "#predicting the accuracy of the model\n",
    "y_pred=model.predict(X_test)\n",
    "accuracy=accuracy_score(Y_test,y_pred)\n",
    "print(f\"The accuracy of the model is {accuracy*100:.2f}%\") "
   ]
  },
  {
   "cell_type": "code",
   "execution_count": 71,
   "id": "5b39e70e-465c-4e41-9f93-8f4ce03c2d3d",
   "metadata": {},
   "outputs": [
    {
     "name": "stdin",
     "output_type": "stream",
     "text": [
      "Enter the list of inputs separated by commas:  0.03,0.07,0.05,0.11,0.22,0.19,0.33,0.29,0.45,0.48,0.27,0.33,0.41,0.38,0.49,0.50,0.44,0.47,0.54,0.60,0.66,0.72,0.78,0.80,0.85,0.89,0.92,0.94,0.96,0.97,0.98,0.99,0.95,0.93,0.91,0.88,0.85,0.83,0.79,0.75,0.72,0.70,0.66,0.62,0.59,0.55,0.52,0.48,0.45,0.41,0.38,0.34,0.31,0.28,0.25,0.21,0.19,0.15,0.11,0.08\n"
     ]
    },
    {
     "name": "stdout",
     "output_type": "stream",
     "text": [
      "The Object represents the mine\n"
     ]
    }
   ],
   "source": [
    "import numpy as np\n",
    "\n",
    "input_data = input(\"Enter the list of inputs separated by commas: \")\n",
    "input_data = np.array([float(x) for x in input_data.split(\",\")])\n",
    "\n",
    "reshaped_data = input_data.reshape(1, -1)\n",
    "\n",
    "prediction = model.predict(reshaped_data)\n",
    "\n",
    "if prediction[0] == 'M':\n",
    "    print(\"The Object represents the mine\")\n",
    "else:\n",
    "    print(\"The Object represents the rock\")\n"
   ]
  },
  {
   "cell_type": "code",
   "execution_count": null,
   "id": "d9e8df20-4c3a-4f61-890f-4a10ffa29ad0",
   "metadata": {},
   "outputs": [],
   "source": []
  }
 ],
 "metadata": {
  "kernelspec": {
   "display_name": "Python 3 (ipykernel)",
   "language": "python",
   "name": "python3"
  },
  "language_info": {
   "codemirror_mode": {
    "name": "ipython",
    "version": 3
   },
   "file_extension": ".py",
   "mimetype": "text/x-python",
   "name": "python",
   "nbconvert_exporter": "python",
   "pygments_lexer": "ipython3",
   "version": "3.12.7"
  },
  "widgets": {
   "application/vnd.jupyter.widget-state+json": {
    "state": {},
    "version_major": 2,
    "version_minor": 0
   }
  }
 },
 "nbformat": 4,
 "nbformat_minor": 5
}
